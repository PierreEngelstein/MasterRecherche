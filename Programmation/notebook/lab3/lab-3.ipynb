{
 "cells": [
  {
   "cell_type": "markdown",
   "metadata": {},
   "source": [
    "![image](resources/qcqh-lab-header.png)"
   ]
  },
  {
   "cell_type": "markdown",
   "metadata": {},
   "source": [
    "# Lab 3: Quantum Phase Estimation"
   ]
  },
  {
   "cell_type": "markdown",
   "metadata": {},
   "source": [
    "In this lab, you will implement a quantum program to determine the global phase applied by a unitary operator on its eigenstate. In order to do this, you will write `Qiskit` code for the quantum phase estimation algorithm following the material presented in lectures 7 to 9.\n",
    "\n",
    "You might find the following chapters of the Qiskit Textbook useful:\n",
    "- **Quantum phase estimation**: https://qiskit.org/textbook/ch-algorithms/quantum-phase-estimation.html\n",
    "- **Quantum Fourier transform**: https://qiskit.org/textbook/ch-algorithms/quantum-fourier-transform.html\n",
    "\n",
    "Remember, to run a cell in Jupyter notebooks, you press `Shift` + `Return/Enter` on your keyboard."
   ]
  },
  {
   "cell_type": "markdown",
   "metadata": {},
   "source": [
    "### Installing necessary packages"
   ]
  },
  {
   "cell_type": "markdown",
   "metadata": {},
   "source": [
    "Before we begin, you will need to install some prerequisites into your environment. Run the cell below to complete these installations. At the end, the cell outputs will be cleared."
   ]
  },
  {
   "cell_type": "code",
   "execution_count": 49,
   "metadata": {},
   "outputs": [],
   "source": [
    "!pip3 install -U -r resources/requirements.txt\n",
    "\n",
    "from IPython.display import clear_output\n",
    "clear_output()"
   ]
  },
  {
   "cell_type": "markdown",
   "metadata": {},
   "source": [
    "# Review of Quantum Phase Estimation"
   ]
  },
  {
   "cell_type": "markdown",
   "metadata": {},
   "source": [
    "![image](resources/qpe.png)"
   ]
  },
  {
   "cell_type": "markdown",
   "metadata": {},
   "source": [
    "You might recall from lectures 7 to 9 that the goal of quantum phase estimation is to determine the phase $\\theta$ applied by a unitary operator $U$ on its eigenstate $\\vert\\psi\\rangle$ such that\n",
    "\n",
    "$$U\\vert\\psi\\rangle = e^{2\\pi i\\theta}\\vert\\psi\\rangle$$\n",
    "\n",
    "This is done in four main steps.\n",
    "\n",
    "1. First, we begin by creating a superposition of all $2^n$ computational basis states on the $n$ measurement qubits by applying a Hadamard ($H$) gate on each qubit starting off in the state $\\vert0\\rangle^{\\otimes n}$. We also initialize the target qubits (in this case only one) into an eigenstate $\\vert\\psi\\rangle$ of the unitary operator $U$. Here, the exponent $\\otimes n$ means that we have a tensor product of the states of $n$ qubits. \n",
    "\n",
    "2. Second, we apply the unitary operator $U$ with various powers onto the target qubits (in this case only one) by controlling it with each of the different measurement qubits. The schematic above shows the ordering and respective powers.\n",
    "\n",
    "3. Third, we apply an inverse quantum Fourier transform on the $n$ measurement qubits.\n",
    "\n",
    "4. Finally, we measure the $n$ qubits and read out $2^n\\theta$.\n",
    "\n",
    "\n",
    "# Graded Exercise 1: Implementing Quantum Phase Estimation\n",
    "\n",
    "In this lab, we will implement the unitary operator $U$ of a single qubit given by\n",
    "\n",
    "$$U = \\begin{bmatrix}1 & 0\\\\ 0 & e^{2\\pi i\\theta}\\end{bmatrix}$$\n",
    "\n",
    "for which an eigenstate is the single-qubit state $\\vert1\\rangle$. The operator applies a phase\n",
    "\n",
    "$$U\\vert1\\rangle = e^{2\\pi i\\theta}\\vert1\\rangle$$\n",
    "\n",
    "Our objective is to determine theta using quantum phase estimation. We will use $\\theta=0.5$ and $n = 5$ measurement qubits."
   ]
  },
  {
   "cell_type": "markdown",
   "metadata": {},
   "source": [
    "### 1. Initializing the qubits\n",
    "\n",
    "We will need to initialize our qubits as described above by applying a Hadamard gate on each of the $n$ measurement qubits. We will also set the target qubit to $\\vert1\\rangle$, since that is the eigenstate onto which the unitary operator $U$ will be applied. \n",
    "\n",
    "We have created a function below called `initialize_qubits` which takes in three arguments. The first argument is the quantum circuit onto which the gates will be applied. The second argument, `measurement_qubits`, is the list of measurement qubits. The third argument, `target_qubit`, is the target qubit for the unitary operator."
   ]
  },
  {
   "cell_type": "code",
   "execution_count": 68,
   "metadata": {},
   "outputs": [],
   "source": [
    "def initialize_qubits(given_circuit, measurement_qubits, target_qubit):\n",
    "    \n",
    "    ### WRITE YOUR CODE BETWEEN THESE LINES - START\n",
    "    \n",
    "    #given_circuit.h(measurement_qubits)\n",
    "    \n",
    "    for i in measurement_qubits:\n",
    "        given_circuit.h(i)\n",
    "    \n",
    "    given_circuit.x(target_qubit)\n",
    "    \n",
    "    ### WRITE YOUR CODE BETWEEN THESE LINES - END"
   ]
  },
  {
   "cell_type": "markdown",
   "metadata": {},
   "source": [
    "### 2. Implementing the unitary operator\n",
    "\n",
    "We have created a function below called `unitary_operator` which takes in three arguments. The first argument is the quantum circuit onto which the operator will be applied. The second argument, `control_qubit`, is the control qubit for the unitary operator. The third argument, `target_qubit`, is the target qubit for the unitary operator. Finally, the fourth argument, `theta`, sets the value of $\\theta$.\n",
    "\n",
    "The function implements the unitary operator described above by using `Qiskit`'s controlled-$u_1$ gate. The matrix for the $u_1$ gate is\n",
    "\n",
    "$$u_1 = \\begin{bmatrix}1 & 0\\\\ 0 & e^{i\\theta}\\end{bmatrix}$$\n",
    "\n",
    "**Note that the phase from the $u_1$ gate differs from that of the $U$ gate by a factor of $2\\pi$. You will need to account for this difference in your work.**"
   ]
  },
  {
   "cell_type": "code",
   "execution_count": 69,
   "metadata": {},
   "outputs": [],
   "source": [
    "import numpy as np\n",
    "pi = np.pi"
   ]
  },
  {
   "cell_type": "code",
   "execution_count": 70,
   "metadata": {},
   "outputs": [],
   "source": [
    "def unitary_operator(given_circuit, control_qubit, target_qubit, theta):\n",
    "    \n",
    "    ### WRITE YOUR CODE BETWEEN THESE LINES - START\n",
    "    given_circuit.cu1(2*pi*theta, control_qubit, target_qubit)\n",
    "    \n",
    "    ### WRITE YOUR CODE BETWEEN THESE LINES - END"
   ]
  },
  {
   "cell_type": "markdown",
   "metadata": {},
   "source": [
    "You will also need to apply different powers of the unitary operator for the quantum phase estimation algorithm. In order to do this, you can either create a loop that applies that operator several times, or take advantage of the fact that the matrix for $u_1$ is diagonal, and simply multiply the phase by the power.\n",
    "\n",
    "We have created a function below called `unitary_operator_exponent` which takes in four arguments. The first argument is the quantum circuit onto which the operator will be applied. The second argument, `control_qubit`, is the control qubit for the unitary operator. The third argument, `target_qubit`, is the target qubit for the unitary operator. Finally, the fourth argument, `theta`, sets the value of $\\theta$. The fourth argument, `exponent` is the number of times that the unitary operator needs to be applied."
   ]
  },
  {
   "cell_type": "code",
   "execution_count": 71,
   "metadata": {},
   "outputs": [],
   "source": [
    "def unitary_operator_exponent(given_circuit, control_qubit, target_qubit, theta, exponent):\n",
    "    \n",
    "    ### WRITE YOUR CODE BETWEEN THESE LINES - START\n",
    "    given_circuit.cu1(2*pi*theta*exponent, control_qubit, target_qubit)\n",
    "    \n",
    "    ### WRITE YOUR CODE BETWEEN THESE LINES - END"
   ]
  },
  {
   "cell_type": "markdown",
   "metadata": {},
   "source": [
    "### 3. Implementing an inverse quantum Fourier transform\n",
    "\n",
    "You will also need to implement an inverse quantum Fourier transform as part of the quantum phase estimation algorithm. You can do this using two methods.\n",
    "\n",
    "-- Method 1 (easier) is to use `Qiskit`'s circuit library to give you a box that implements the inverse quantum fourier transform. You can do this using `qiskit.circuit.library.qft(num_qubits).inverse()`. The documentation for this is here: https://qiskit.org/documentation/stubs/qiskit.circuit.library.QFT.html\n",
    "\n",
    "-- Method 2 (harder) is to implement the gates of the inverse quantum Fourier transform by hand. We strongly recommend following the detailed discussion in the `Qiskit` textbook for examples.\n",
    "\n",
    "We have created a function below called `apply_iqft` which takes in three arguments. The first argument is the quantum circuit onto which the operator will be applied. The second argument, `measurement_qubits`, is the set of qubits onto which the inverse quantum Fourier transform will be applied. The third argument, `n`, is the number of measurement qubits for which the inverse quantum Fourier transform needs to be created."
   ]
  },
  {
   "cell_type": "code",
   "execution_count": 72,
   "metadata": {},
   "outputs": [],
   "source": [
    "from qiskit.circuit.library import QFT"
   ]
  },
  {
   "cell_type": "code",
   "execution_count": 73,
   "metadata": {},
   "outputs": [],
   "source": [
    "def apply_iqft(given_circuit, measurement_qubits, n):\n",
    "    \n",
    "    ### WRITE YOUR CODE BETWEEN THESE LINES - START\n",
    "    given_circuit.append(QFT(n).inverse(), measurement_qubits)\n",
    "    \n",
    "    ### WRITE YOUR CODE BETWEEN THESE LINES - END"
   ]
  },
  {
   "cell_type": "markdown",
   "metadata": {},
   "source": [
    "### 4. Putting it all together\n",
    "\n",
    "Finally, we combine the functions to construct the quantum program that implements the quantum phase estimation algorithm.\n",
    "\n",
    "The next lines of code put everything together. **You do not need to modify anything below, but you will need to run the cell to submit your solution.**"
   ]
  },
  {
   "cell_type": "code",
   "execution_count": 74,
   "metadata": {},
   "outputs": [],
   "source": [
    "from qiskit import QuantumCircuit"
   ]
  },
  {
   "cell_type": "code",
   "execution_count": 75,
   "metadata": {},
   "outputs": [
    {
     "data": {
      "text/html": [
       "<pre style=\"word-wrap: normal;white-space: pre;background: #fff0;line-height: 1.1;font-family: &quot;Courier New&quot;,Courier,monospace\">     ┌───┐                                            ┌───────┐┌─┐            \n",
       "q_0: ┤ H ├─■──────────────────────────────────────────┤0      ├┤M├────────────\n",
       "     ├───┤ │                                          │       │└╥┘┌─┐         \n",
       "q_1: ┤ H ├─┼────────■─────────────────────────────────┤1      ├─╫─┤M├─────────\n",
       "     ├───┤ │        │                                 │       │ ║ └╥┘┌─┐      \n",
       "q_2: ┤ H ├─┼────────┼────────■────────────────────────┤2 iqft ├─╫──╫─┤M├──────\n",
       "     ├───┤ │        │        │                        │       │ ║  ║ └╥┘┌─┐   \n",
       "q_3: ┤ H ├─┼────────┼────────┼────────■───────────────┤3      ├─╫──╫──╫─┤M├───\n",
       "     ├───┤ │        │        │        │               │       │ ║  ║  ║ └╥┘┌─┐\n",
       "q_4: ┤ H ├─┼────────┼────────┼────────┼────────■──────┤4      ├─╫──╫──╫──╫─┤M├\n",
       "     ├───┤ │70.372  │35.186  │17.593  │14pi/5  │7pi/5 └───────┘ ║  ║  ║  ║ └╥┘\n",
       "q_5: ┤ X ├─■────────■────────■────────■────────■────────────────╫──╫──╫──╫──╫─\n",
       "     └───┘                                                      ║  ║  ║  ║  ║ \n",
       "c: 5/═══════════════════════════════════════════════════════════╩══╩══╩══╩══╩═\n",
       "                                                                0  1  2  3  4 </pre>"
      ],
      "text/plain": [
       "     ┌───┐                                            ┌───────┐┌─┐            \n",
       "q_0: ┤ H ├─■──────────────────────────────────────────┤0      ├┤M├────────────\n",
       "     ├───┤ │                                          │       │└╥┘┌─┐         \n",
       "q_1: ┤ H ├─┼────────■─────────────────────────────────┤1      ├─╫─┤M├─────────\n",
       "     ├───┤ │        │                                 │       │ ║ └╥┘┌─┐      \n",
       "q_2: ┤ H ├─┼────────┼────────■────────────────────────┤2 iqft ├─╫──╫─┤M├──────\n",
       "     ├───┤ │        │        │                        │       │ ║  ║ └╥┘┌─┐   \n",
       "q_3: ┤ H ├─┼────────┼────────┼────────■───────────────┤3      ├─╫──╫──╫─┤M├───\n",
       "     ├───┤ │        │        │        │               │       │ ║  ║  ║ └╥┘┌─┐\n",
       "q_4: ┤ H ├─┼────────┼────────┼────────┼────────■──────┤4      ├─╫──╫──╫──╫─┤M├\n",
       "     ├───┤ │70.372  │35.186  │17.593  │14pi/5  │7pi/5 └───────┘ ║  ║  ║  ║ └╥┘\n",
       "q_5: ┤ X ├─■────────■────────■────────■────────■────────────────╫──╫──╫──╫──╫─\n",
       "     └───┘                                                      ║  ║  ║  ║  ║ \n",
       "c: 5/═══════════════════════════════════════════════════════════╩══╩══╩══╩══╩═\n",
       "                                                                0  1  2  3  4 "
      ]
     },
     "execution_count": 75,
     "metadata": {},
     "output_type": "execute_result"
    }
   ],
   "source": [
    "def qpe_program(n, theta):\n",
    "    \n",
    "    # Create a quantum circuit on n+1 qubits (n measurement, 1 target)\n",
    "    qc = QuantumCircuit(n+1, n)\n",
    "    \n",
    "    # Initialize the qubits\n",
    "    initialize_qubits(qc, range(n), n)\n",
    "    \n",
    "    # Apply the controlled unitary operators in sequence\n",
    "    for x in range(n):\n",
    "        exponent = 2**(n-x-1)\n",
    "        unitary_operator_exponent(qc, x, n, theta, exponent)\n",
    "        \n",
    "    # Apply the inverse quantum Fourier transform\n",
    "    apply_iqft(qc, range(n), n)\n",
    "    \n",
    "    # Measure all qubits\n",
    "    qc.measure(range(n), range(n))\n",
    "  \n",
    "    return qc\n",
    "\n",
    "n = 5; theta = 0.7\n",
    "mycircuit = qpe_program(n, theta)\n",
    "mycircuit.draw(output='text')"
   ]
  },
  {
   "cell_type": "markdown",
   "metadata": {},
   "source": [
    "That's it! You might find it useful to run your quantum circuit and see the measurement outcomes, as well as visualize the statevector at the end.\n",
    "\n",
    "In order to run your quantum circuit and get the measurement outcomes, you simply need to run `Qiskit`'s `execute` function as follows."
   ]
  },
  {
   "cell_type": "code",
   "execution_count": 76,
   "metadata": {},
   "outputs": [
    {
     "data": {
      "image/png": "[encoded data removed]",
      "text/plain": [
       "<Figure size 504x360 with 1 Axes>"
      ]
     },
     "execution_count": 76,
     "metadata": {},
     "output_type": "execute_result"
    }
   ],
   "source": [
    "from qiskit import Aer, execute\n",
    "simulator = Aer.get_backend('qasm_simulator')\n",
    "counts = execute(mycircuit, backend=simulator, shots=1000).result().get_counts(mycircuit)\n",
    "from qiskit.visualization import plot_histogram\n",
    "plot_histogram(counts)"
   ]
  },
  {
   "cell_type": "markdown",
   "metadata": {},
   "source": [
    "You can use the measured counts to determine $\\theta$ using the following lines of code. Here, we are looking for the outcome with the largest probability, and dividing by $2^n$ since the quantum phase estimation algorithm outputs $2^n\\theta$. Note also that we are reversing the order of the bits in the outcome, since `Qiskit` uses the top-most outcome bit to come from the top-most qubit."
   ]
  },
  {
   "cell_type": "code",
   "execution_count": 77,
   "metadata": {},
   "outputs": [
    {
     "name": "stdout",
     "output_type": "stream",
     "text": [
      "Using 5 qubits with theta = 0.70, measured_theta = 0.69.\n"
     ]
    }
   ],
   "source": [
    "import operator\n",
    "highest_probability_outcome = max(counts.items(), key=operator.itemgetter(1))[0][::-1]\n",
    "measured_theta = int(highest_probability_outcome, 2)/2**n\n",
    "print(\"Using %d qubits with theta = %.2f, measured_theta = %.2f.\" % (n, theta, measured_theta))"
   ]
  },
  {
   "cell_type": "markdown",
   "metadata": {},
   "source": [
    "# Additional reading\n",
    "\n",
    "- On pi day of 2020 (March 14, 2020), we added a chapter to the `Qiskit` textbook showing how to estimate the value of $\\pi$ using the quantum phase estimation algorithm. You can find that implementation here: https://qiskit.org/textbook/ch-demos/piday-code.html"
   ]
  }
 ],
 "metadata": {
  "kernelspec": {
   "display_name": "Python 3",
   "language": "python",
   "name": "python3"
  },
  "language_info": {
   "codemirror_mode": {
    "name": "ipython",
    "version": 3
   },
   "file_extension": ".py",
   "mimetype": "text/x-python",
   "name": "python",
   "nbconvert_exporter": "python",
   "pygments_lexer": "ipython3",
   "version": "3.8.5"
  }
 },
 "nbformat": 4,
 "nbformat_minor": 4
}
