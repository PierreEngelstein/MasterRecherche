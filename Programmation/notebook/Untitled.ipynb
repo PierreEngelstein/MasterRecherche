{
 "cells": [
  {
   "cell_type": "code",
   "execution_count": null,
   "metadata": {},
   "outputs": [],
   "source": [
    "operation SampleRngExample(): Result{\n",
    "    using(q = Qubit()){\n",
    "        H(q);\n",
    "        let r = M(q);\n",
    "        Reset(q);\n",
    "        return r;\n",
    "    }\n",
    "}"
   ]
  },
  {
   "cell_type": "code",
   "execution_count": null,
   "metadata": {},
   "outputs": [],
   "source": [
    "%simulate SampleRngExample"
   ]
  }
 ],
 "metadata": {
  "kernelspec": {
   "display_name": "Q#",
   "language": "qsharp",
   "name": "iqsharp"
  },
  "language_info": {
   "name": ""
  }
 },
 "nbformat": 4,
 "nbformat_minor": 4
}
