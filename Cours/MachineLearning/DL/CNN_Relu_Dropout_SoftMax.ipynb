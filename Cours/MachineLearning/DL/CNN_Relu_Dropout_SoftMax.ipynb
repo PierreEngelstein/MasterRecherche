{
 "cells": [
  {
   "cell_type": "code",
   "execution_count": 14,
   "id": "fundamental-message",
   "metadata": {},
   "outputs": [],
   "source": [
    "from keras.datasets import mnist\n",
    "import matplotlib.pyplot as plt\n",
    "(X_train, y_train), (X_test, y_test) = mnist.load_data()"
   ]
  },
  {
   "cell_type": "code",
   "execution_count": 15,
   "id": "million-success",
   "metadata": {},
   "outputs": [],
   "source": [
    "from keras.models import Sequential\n",
    "from keras.layers import Dense, Activation\n",
    "from keras.layers import Dropout\n",
    "from keras.utils import np_utils"
   ]
  },
  {
   "cell_type": "code",
   "execution_count": 16,
   "metadata": {},
   "outputs": [],
   "source": [
    "from keras.callbacks import TensorBoard\n",
    "NAME=\"FC_Relu_Dropout_0.25_Softmax_model\"\n",
    "tensorboard = TensorBoard(log_dir=\"logs/{}\".format(NAME))"
   ]
  },
  {
   "cell_type": "code",
   "execution_count": 17,
   "metadata": {},
   "outputs": [],
   "source": [
    "X_train = X_train.reshape(X_train.shape[0], 784).astype('float32')\n",
    "X_test = X_test.reshape(X_test.shape[0], 784).astype('float32')"
   ]
  },
  {
   "cell_type": "code",
   "execution_count": 18,
   "metadata": {},
   "outputs": [],
   "source": [
    "# Normalize\n",
    "X_train /= 255\n",
    "X_test /= 255"
   ]
  },
  {
   "cell_type": "code",
   "execution_count": 19,
   "metadata": {},
   "outputs": [],
   "source": [
    "y_train = np_utils.to_categorical(y_train)\n",
    "y_test = np_utils.to_categorical(y_test)"
   ]
  },
  {
   "cell_type": "code",
   "execution_count": 20,
   "metadata": {},
   "outputs": [],
   "source": [
    "Pkeep = 0.25\n",
    "model = Sequential([\n",
    "    Dense(200, input_shape=(784,)),\n",
    "    Activation('relu'),\n",
    "    Dropout(Pkeep),\n",
    "    Dense(100, input_shape=(200,)),\n",
    "    Activation('relu'),\n",
    "    Dropout(Pkeep),\n",
    "    Dense(60, input_shape=(100,)),\n",
    "    Activation('relu'),\n",
    "    Dropout(Pkeep),\n",
    "    Dense(30, input_shape=(60,)),\n",
    "    Activation('relu'),\n",
    "    Dropout(Pkeep),\n",
    "    Dense(10),\n",
    "    Activation('softmax')\n",
    "])"
   ]
  },
  {
   "cell_type": "code",
   "execution_count": 21,
   "metadata": {},
   "outputs": [],
   "source": [
    "model.compile(loss='categorical_crossentropy', optimizer=\"adam\", metrics=['accuracy'])"
   ]
  },
  {
   "cell_type": "code",
   "execution_count": 22,
   "metadata": {},
   "outputs": [
    {
     "output_type": "stream",
     "name": "stdout",
     "text": [
      "Epoch 1/10\n",
      "600/600 [==============================] - 2s 3ms/step - loss: 1.0584 - accuracy: 0.6503 - val_loss: 0.1671 - val_accuracy: 0.9531\n",
      "Epoch 2/10\n",
      "600/600 [==============================] - 1s 2ms/step - loss: 0.2688 - accuracy: 0.9329 - val_loss: 0.1305 - val_accuracy: 0.9649\n",
      "Epoch 3/10\n",
      "600/600 [==============================] - 1s 2ms/step - loss: 0.1857 - accuracy: 0.9533 - val_loss: 0.1061 - val_accuracy: 0.9710\n",
      "Epoch 4/10\n",
      "600/600 [==============================] - 1s 2ms/step - loss: 0.1619 - accuracy: 0.9586 - val_loss: 0.1060 - val_accuracy: 0.9690\n",
      "Epoch 5/10\n",
      "600/600 [==============================] - 1s 2ms/step - loss: 0.1356 - accuracy: 0.9671 - val_loss: 0.0975 - val_accuracy: 0.9747\n",
      "Epoch 6/10\n",
      "600/600 [==============================] - 1s 2ms/step - loss: 0.1176 - accuracy: 0.9703 - val_loss: 0.0939 - val_accuracy: 0.9776\n",
      "Epoch 7/10\n",
      "600/600 [==============================] - 1s 2ms/step - loss: 0.1098 - accuracy: 0.9712 - val_loss: 0.0908 - val_accuracy: 0.9775\n",
      "Epoch 8/10\n",
      "600/600 [==============================] - 1s 2ms/step - loss: 0.0992 - accuracy: 0.9754 - val_loss: 0.0959 - val_accuracy: 0.9765\n",
      "Epoch 9/10\n",
      "600/600 [==============================] - 1s 2ms/step - loss: 0.0910 - accuracy: 0.9761 - val_loss: 0.0840 - val_accuracy: 0.9795\n",
      "Epoch 10/10\n",
      "600/600 [==============================] - 1s 2ms/step - loss: 0.0825 - accuracy: 0.9793 - val_loss: 0.0818 - val_accuracy: 0.9802\n"
     ]
    },
    {
     "output_type": "execute_result",
     "data": {
      "text/plain": [
       "<tensorflow.python.keras.callbacks.History at 0x7feea8034fd0>"
      ]
     },
     "metadata": {},
     "execution_count": 22
    }
   ],
   "source": [
    "model.fit(X_train, y_train, validation_data=(X_test, y_test), epochs=10, batch_size=10, verbose=1, callbacks=[tensorboard])"
   ]
  }
 ],
 "metadata": {
  "kernelspec": {
   "display_name": "Python 3",
   "language": "python",
   "name": "python3"
  },
  "language_info": {
   "codemirror_mode": {
    "name": "ipython",
    "version": 3
   },
   "file_extension": ".py",
   "mimetype": "text/x-python",
   "name": "python",
   "nbconvert_exporter": "python",
   "pygments_lexer": "ipython3",
   "version": "3.8.6-final"
  }
 },
 "nbformat": 4,
 "nbformat_minor": 5
}