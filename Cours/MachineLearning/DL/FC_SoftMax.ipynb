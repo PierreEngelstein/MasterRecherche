{
 "cells": [
  {
   "cell_type": "code",
   "execution_count": 1,
   "id": "fundamental-message",
   "metadata": {},
   "outputs": [],
   "source": [
    "from keras.datasets import mnist\n",
    "import matplotlib.pyplot as plt\n",
    "(X_train, y_train), (X_test, y_test) = mnist.load_data()"
   ]
  },
  {
   "cell_type": "code",
   "execution_count": 4,
   "id": "million-success",
   "metadata": {},
   "outputs": [],
   "source": [
    "from keras.models import Sequential\n",
    "from keras.layers import Dense, Activation\n",
    "from keras.layers import Dropout\n",
    "from keras.utils import np_utils"
   ]
  },
  {
   "cell_type": "code",
   "execution_count": 5,
   "metadata": {},
   "outputs": [],
   "source": [
    "from keras.callbacks import TensorBoard\n",
    "NAME=\"FC_Softmax_model\"\n",
    "tensorboard = TensorBoard(log_dir=\"logs/{}\".format(NAME))"
   ]
  },
  {
   "cell_type": "code",
   "execution_count": 6,
   "metadata": {},
   "outputs": [],
   "source": [
    "X_train = X_train.reshape(X_train.shape[0], 784).astype('float32')\n",
    "X_test = X_test.reshape(X_test.shape[0], 784).astype('float32')"
   ]
  },
  {
   "cell_type": "code",
   "execution_count": 7,
   "metadata": {},
   "outputs": [],
   "source": [
    "# Normalize\n",
    "X_train /= 255\n",
    "X_test /= 255"
   ]
  },
  {
   "cell_type": "code",
   "execution_count": 8,
   "metadata": {},
   "outputs": [],
   "source": [
    "y_train = np_utils.to_categorical(y_train)\n",
    "y_test = np_utils.to_categorical(y_test)"
   ]
  },
  {
   "cell_type": "code",
   "execution_count": 10,
   "metadata": {},
   "outputs": [],
   "source": [
    "model = Sequential([\n",
    "    Dense(200, input_shape=(784,)),\n",
    "    Activation('sigmoid'),\n",
    "    Dense(100, input_shape=(200,)),\n",
    "    Activation('sigmoid'),\n",
    "    Dense(60, input_shape=(100,)),\n",
    "    Activation('sigmoid'),\n",
    "    Dense(30, input_shape=(60,)),\n",
    "    Activation('sigmoid'),\n",
    "    Dense(10),\n",
    "    Activation('softmax')\n",
    "])"
   ]
  },
  {
   "cell_type": "code",
   "execution_count": 11,
   "metadata": {},
   "outputs": [],
   "source": [
    "model.compile(loss='categorical_crossentropy', optimizer=\"adam\", metrics=['accuracy'])"
   ]
  },
  {
   "cell_type": "code",
   "execution_count": 16,
   "metadata": {},
   "outputs": [
    {
     "output_type": "stream",
     "name": "stdout",
     "text": [
      "Epoch 1/10\n",
      "600/600 [==============================] - 1s 2ms/step - loss: 0.0012 - accuracy: 0.9997 - val_loss: 0.1299 - val_accuracy: 0.9795\n",
      "Epoch 2/10\n",
      "600/600 [==============================] - 1s 2ms/step - loss: 3.2520e-04 - accuracy: 1.0000 - val_loss: 0.1303 - val_accuracy: 0.9789\n",
      "Epoch 3/10\n",
      "600/600 [==============================] - 1s 2ms/step - loss: 2.5103e-04 - accuracy: 1.0000 - val_loss: 0.1315 - val_accuracy: 0.9788\n",
      "Epoch 4/10\n",
      "600/600 [==============================] - 1s 2ms/step - loss: 2.3102e-04 - accuracy: 1.0000 - val_loss: 0.1325 - val_accuracy: 0.9791\n",
      "Epoch 5/10\n",
      "600/600 [==============================] - 1s 2ms/step - loss: 2.1548e-04 - accuracy: 1.0000 - val_loss: 0.1334 - val_accuracy: 0.9791\n",
      "Epoch 6/10\n",
      "600/600 [==============================] - 1s 2ms/step - loss: 2.0404e-04 - accuracy: 1.0000 - val_loss: 0.1340 - val_accuracy: 0.9793\n",
      "Epoch 7/10\n",
      "600/600 [==============================] - 1s 2ms/step - loss: 1.9255e-04 - accuracy: 1.0000 - val_loss: 0.1350 - val_accuracy: 0.9792\n",
      "Epoch 8/10\n",
      "600/600 [==============================] - 1s 2ms/step - loss: 1.8245e-04 - accuracy: 1.0000 - val_loss: 0.1358 - val_accuracy: 0.9792\n",
      "Epoch 9/10\n",
      "600/600 [==============================] - 1s 2ms/step - loss: 1.6501e-04 - accuracy: 1.0000 - val_loss: 0.1376 - val_accuracy: 0.9792\n",
      "Epoch 10/10\n",
      "600/600 [==============================] - 1s 2ms/step - loss: 0.0026 - accuracy: 0.9992 - val_loss: 0.1427 - val_accuracy: 0.9764\n"
     ]
    },
    {
     "output_type": "execute_result",
     "data": {
      "text/plain": [
       "<tensorflow.python.keras.callbacks.History at 0x7ff77810de20>"
      ]
     },
     "metadata": {},
     "execution_count": 16
    }
   ],
   "source": [
    "model.fit(X_train, y_train, validation_data=(X_test, y_test), epochs=10, batch_size=100, verbose=1, callbacks=[tensorboard])"
   ]
  }
 ],
 "metadata": {
  "kernelspec": {
   "display_name": "Python 3",
   "language": "python",
   "name": "python3"
  },
  "language_info": {
   "codemirror_mode": {
    "name": "ipython",
    "version": 3
   },
   "file_extension": ".py",
   "mimetype": "text/x-python",
   "name": "python",
   "nbconvert_exporter": "python",
   "pygments_lexer": "ipython3",
   "version": "3.8.6-final"
  }
 },
 "nbformat": 4,
 "nbformat_minor": 5
}